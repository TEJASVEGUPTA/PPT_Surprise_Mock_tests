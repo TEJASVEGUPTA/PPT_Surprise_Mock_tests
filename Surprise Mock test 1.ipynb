{
 "cells": [
  {
   "cell_type": "markdown",
   "id": "f4816044",
   "metadata": {},
   "source": [
    "# SUBMITTED BY: TEJASVE GUPTA "
   ]
  },
  {
   "cell_type": "markdown",
   "id": "52a80d69",
   "metadata": {},
   "source": [
    "## Move Zeroes\n",
    "**Q.1.** Given an integer array nums, move all 0's to the end of it while maintaining the relative order of the non-zero elements.\n",
    "\n",
    "**Note:** that you must do this in-place without making a copy of the array.\n",
    "\n",
    "**Example 1:**\n",
    "\n",
    "**Input:** nums = [0,1,0,3,12]\n",
    "**Output:** [1,3,12,0,0]\n",
    "\n",
    "**Example 2:**\n",
    "\n",
    "**Input:** nums = [0]\n",
    "**Output:** [0]\n",
    "\n",
    "**Constraints:**\n",
    "\n",
    "a. 1 <= nums.length <= 10^4\n",
    "b. -2^31 <= nums[i] <= 2^31 - 1\n"
   ]
  },
  {
   "cell_type": "code",
   "execution_count": 1,
   "id": "0e93cbac",
   "metadata": {},
   "outputs": [],
   "source": [
    "def moveZeroes(nums):\n",
    "    # Initialize two pointers\n",
    "    left = 0\n",
    "    right = 0\n",
    "    \n",
    "    # Move non-zero elements to the left side of the array\n",
    "    while right < len(nums):\n",
    "        if nums[right] != 0:\n",
    "            nums[left] = nums[right]\n",
    "            left += 1\n",
    "        right += 1\n",
    "    \n",
    "    # Fill the remaining elements with zeroes\n",
    "    while left < len(nums):\n",
    "        nums[left] = 0\n",
    "        left += 1\n",
    "    \n",
    "    return nums"
   ]
  },
  {
   "cell_type": "code",
   "execution_count": 3,
   "id": "5b90c060",
   "metadata": {},
   "outputs": [
    {
     "name": "stdout",
     "output_type": "stream",
     "text": [
      "[1, 3, 12, 0, 0]\n"
     ]
    }
   ],
   "source": [
    "# Example 1\n",
    "nums = [0, 1, 0, 3, 12]\n",
    "print(moveZeroes(nums))  # Output: [1, 3, 12, 0, 0]"
   ]
  },
  {
   "cell_type": "code",
   "execution_count": 4,
   "id": "a52c1f3f",
   "metadata": {},
   "outputs": [
    {
     "name": "stdout",
     "output_type": "stream",
     "text": [
      "[0]\n"
     ]
    }
   ],
   "source": [
    "# Example 2\n",
    "nums = [0]\n",
    "print(moveZeroes(nums))  # Output: [0]\n"
   ]
  },
  {
   "cell_type": "markdown",
   "id": "31a00469",
   "metadata": {},
   "source": [
    "## First Unique Character in a String\n",
    "\n",
    "**Q.2** Given a string s, find the first non-repeating character in it and return its index. If it does not exist, return -1.\n",
    "\n",
    "**Example 1:**\n",
    "\n",
    "Input: s = \"leetcode\"\n",
    "Output: 0\n",
    "\n",
    "**Example 2:**\n",
    "\n",
    "Input: s = \"loveleetcode\"\n",
    "Output: 2\n",
    "\n",
    "**Example 3:**\n",
    "\n",
    "Input: s = \"aabb\"\n",
    "Output: -1\n",
    "\n",
    "**Constraints:**\n",
    "\n",
    "a. 1 <= s.length <= 10^5\n",
    "b. s consists of only lowercase English letters."
   ]
  },
  {
   "cell_type": "code",
   "execution_count": 5,
   "id": "7f45c6ba",
   "metadata": {},
   "outputs": [],
   "source": [
    "def firstUniqChar(s):\n",
    "    # Create a dictionary to store character frequencies\n",
    "    char_freq = {}\n",
    "    \n",
    "    # Count the frequency of each character\n",
    "    for char in s:\n",
    "        char_freq[char] = char_freq.get(char, 0) + 1\n",
    "    \n",
    "    # Find the first character with frequency 1\n",
    "    for i, char in enumerate(s):\n",
    "        if char_freq[char] == 1:\n",
    "            return i\n",
    "    \n",
    "    # If no non-repeating character is found, return -1\n",
    "    return -1\n"
   ]
  },
  {
   "cell_type": "code",
   "execution_count": 8,
   "id": "4f2b6cbd",
   "metadata": {},
   "outputs": [
    {
     "name": "stdout",
     "output_type": "stream",
     "text": [
      "0\n"
     ]
    }
   ],
   "source": [
    "# Example 1\n",
    "s = \"leetcode\"\n",
    "print(firstUniqChar(s))\n"
   ]
  },
  {
   "cell_type": "code",
   "execution_count": 9,
   "id": "e2384b4a",
   "metadata": {},
   "outputs": [
    {
     "name": "stdout",
     "output_type": "stream",
     "text": [
      "2\n"
     ]
    }
   ],
   "source": [
    "# Example 2\n",
    "s = \"loveleetcode\"\n",
    "print(firstUniqChar(s))"
   ]
  },
  {
   "cell_type": "code",
   "execution_count": 10,
   "id": "a780dc1c",
   "metadata": {},
   "outputs": [
    {
     "name": "stdout",
     "output_type": "stream",
     "text": [
      "-1\n"
     ]
    }
   ],
   "source": [
    "# Example 3\n",
    "s = \"aabb\"\n",
    "print(firstUniqChar(s)) "
   ]
  },
  {
   "cell_type": "code",
   "execution_count": null,
   "id": "cd2167a3",
   "metadata": {},
   "outputs": [],
   "source": []
  }
 ],
 "metadata": {
  "kernelspec": {
   "display_name": "Python 3 (ipykernel)",
   "language": "python",
   "name": "python3"
  },
  "language_info": {
   "codemirror_mode": {
    "name": "ipython",
    "version": 3
   },
   "file_extension": ".py",
   "mimetype": "text/x-python",
   "name": "python",
   "nbconvert_exporter": "python",
   "pygments_lexer": "ipython3",
   "version": "3.9.7"
  }
 },
 "nbformat": 4,
 "nbformat_minor": 5
}
