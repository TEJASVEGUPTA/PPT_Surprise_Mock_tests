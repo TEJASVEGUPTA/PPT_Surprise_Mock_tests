{
 "cells": [
  {
   "cell_type": "markdown",
   "id": "c340f41e",
   "metadata": {},
   "source": [
    "## Q.1. Implement a stack using a list in Python. Include the necessary methods such as push, pop, and isEmpty."
   ]
  },
  {
   "cell_type": "code",
   "execution_count": 1,
   "id": "0dfdcb4a",
   "metadata": {},
   "outputs": [],
   "source": [
    "class Stack:\n",
    "    def __init__(self):\n",
    "        self.stack = []\n",
    "\n",
    "    def push(self, item):\n",
    "        self.stack.append(item)\n",
    "\n",
    "    def pop(self):\n",
    "        if not self.isEmpty():\n",
    "            return self.stack.pop()\n",
    "        else:\n",
    "            print(\"Stack is empty.\")\n",
    "\n",
    "    def isEmpty(self):\n",
    "        return len(self.stack) == 0\n"
   ]
  },
  {
   "cell_type": "code",
   "execution_count": 2,
   "id": "591447ec",
   "metadata": {},
   "outputs": [
    {
     "name": "stdout",
     "output_type": "stream",
     "text": [
      "3\n",
      "2\n",
      "False\n",
      "1\n",
      "True\n",
      "Stack is empty.\n",
      "None\n"
     ]
    }
   ],
   "source": [
    "my_stack = Stack()\n",
    "\n",
    "my_stack.push(1)\n",
    "my_stack.push(2)\n",
    "my_stack.push(3)\n",
    "\n",
    "print(my_stack.pop())  # Output: 3\n",
    "print(my_stack.pop())  # Output: 2\n",
    "print(my_stack.isEmpty())  # Output: False\n",
    "print(my_stack.pop())  # Output: 1\n",
    "print(my_stack.isEmpty())  # Output: True\n",
    "print(my_stack.pop())  # Output: Stack is empty. (Error message)"
   ]
  },
  {
   "cell_type": "markdown",
   "id": "f6ff7d0a",
   "metadata": {},
   "source": [
    "## Q.2. Implement a queue using a list in Python. Include the necessary methods such as enqueue, dequeue, and isEmpty."
   ]
  },
  {
   "cell_type": "code",
   "execution_count": 4,
   "id": "db49ce02",
   "metadata": {},
   "outputs": [],
   "source": [
    "class Queue:\n",
    "    def __init__(self):\n",
    "        self.queue = []\n",
    "\n",
    "    def enqueue(self, item):\n",
    "        self.queue.append(item)\n",
    "\n",
    "    def dequeue(self):\n",
    "        if not self.isEmpty():\n",
    "            return self.queue.pop(0)\n",
    "        else:\n",
    "            print(\"Queue is empty.\")\n",
    "\n",
    "    def isEmpty(self):\n",
    "        return len(self.queue) == 0"
   ]
  },
  {
   "cell_type": "code",
   "execution_count": 5,
   "id": "3c339f91",
   "metadata": {},
   "outputs": [
    {
     "name": "stdout",
     "output_type": "stream",
     "text": [
      "1\n",
      "2\n",
      "False\n",
      "3\n",
      "True\n",
      "Queue is empty.\n",
      "None\n"
     ]
    }
   ],
   "source": [
    "my_queue = Queue()\n",
    "\n",
    "my_queue.enqueue(1)\n",
    "my_queue.enqueue(2)\n",
    "my_queue.enqueue(3)\n",
    "\n",
    "print(my_queue.dequeue())  # Output: 1\n",
    "print(my_queue.dequeue())  # Output: 2\n",
    "print(my_queue.isEmpty())  # Output: False\n",
    "print(my_queue.dequeue())  # Output: 3\n",
    "print(my_queue.isEmpty())  # Output: True\n",
    "print(my_queue.dequeue())  # Output: Queue is empty. (Error message)"
   ]
  },
  {
   "cell_type": "code",
   "execution_count": null,
   "id": "8e00126b",
   "metadata": {},
   "outputs": [],
   "source": []
  }
 ],
 "metadata": {
  "kernelspec": {
   "display_name": "Python 3 (ipykernel)",
   "language": "python",
   "name": "python3"
  },
  "language_info": {
   "codemirror_mode": {
    "name": "ipython",
    "version": 3
   },
   "file_extension": ".py",
   "mimetype": "text/x-python",
   "name": "python",
   "nbconvert_exporter": "python",
   "pygments_lexer": "ipython3",
   "version": "3.9.7"
  }
 },
 "nbformat": 4,
 "nbformat_minor": 5
}
